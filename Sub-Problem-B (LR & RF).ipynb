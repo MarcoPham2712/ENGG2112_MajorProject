{
 "cells": [
  {
   "cell_type": "markdown",
   "id": "0b750dab",
   "metadata": {},
   "source": [
    "LINEAR REGRESSION AND RANDOM FOREST"
   ]
  },
  {
   "cell_type": "code",
   "execution_count": null,
   "id": "4266010b",
   "metadata": {},
   "outputs": [
    {
     "name": "stdout",
     "output_type": "stream",
     "text": [
      "Model Evaluation Summary:\n",
      "               Model  R2 Score      MSE\n",
      "0  Linear Regression    0.0126  4156.05\n",
      "1      Random Forest    0.3513  2730.60\n"
     ]
    }
   ],
   "source": [
    "# FlowCastAI - Traffic Volume Prediction\n",
    "# --------------------------------------\n",
    "# Models used: Linear Regression, Random Forest\n",
    "\n",
    "import pandas as pd\n",
    "from sklearn.model_selection import train_test_split\n",
    "from sklearn.linear_model import LinearRegression\n",
    "from sklearn.ensemble import RandomForestRegressor\n",
    "from sklearn.metrics import r2_score, mean_squared_error\n",
    "\n",
    "# Load datasets\n",
    "traffic_df = pd.read_csv('Traffic_Data.csv')\n",
    "weather_df = pd.read_csv('Weather_Data.csv')\n",
    "\n",
    "# Reshape traffic data: wide -> long format for hourly volumes\n",
    "hour_cols = [f'hour_{i:02d}' for i in range(24)]\n",
    "traffic_long = traffic_df.melt(\n",
    "    id_vars=['station_key', 'year', 'month', 'day', 'day_of_week', 'public_holiday', 'school_holiday'],\n",
    "    value_vars=hour_cols,\n",
    "    var_name='hour',\n",
    "    value_name='traffic_volume'\n",
    ")\n",
    "\n",
    "# Convert date and hour columns to usable format\n",
    "traffic_long['date'] = pd.to_datetime(traffic_long[['year', 'month', 'day']])\n",
    "traffic_long['hour'] = traffic_long['hour'].str.extract(r'(\\d+)').astype(int)\n",
    "\n",
    "# Clean and convert weather dates safely\n",
    "weather_df['date'] = weather_df['date'].astype(str).str.strip()\n",
    "weather_df['date'] = pd.to_datetime(weather_df['date'], errors='coerce', dayfirst=True)\n",
    "\n",
    "# Merge datasets on the date\n",
    "df = pd.merge(traffic_long, weather_df, on='date', how='inner')\n",
    "\n",
    "# Drop incomplete records\n",
    "df.dropna(subset=['traffic_volume', 'daily_rain', 'max_temp', 'min_temp'], inplace=True)\n",
    "\n",
    "# Select input features and target\n",
    "feature_cols = ['hour', 'day_of_week', 'public_holiday', 'school_holiday', 'daily_rain', 'max_temp', 'min_temp']\n",
    "X = df[feature_cols]\n",
    "y = df['traffic_volume']\n",
    "\n",
    "# Convert categorical binary fields to dummy variables\n",
    "X = pd.get_dummies(X, columns=['public_holiday', 'school_holiday'], drop_first=True)\n",
    "\n",
    "# Split into train and test sets\n",
    "X_train, X_test, y_train, y_test = train_test_split(X, y, test_size=0.2, random_state=42)\n",
    "\n",
    "# ---- Train models ----\n",
    "\n",
    "# Linear Regression\n",
    "lr = LinearRegression()\n",
    "lr.fit(X_train, y_train)\n",
    "y_pred_lr = lr.predict(X_test)\n",
    "\n",
    "# Random Forest\n",
    "rf = RandomForestRegressor(n_estimators=100, random_state=42)\n",
    "rf.fit(X_train, y_train)\n",
    "y_pred_rf = rf.predict(X_test)\n",
    "\n",
    "# ---- Evaluation ----\n",
    "\n",
    "def get_scores(name, y_true, y_pred):\n",
    "    return {\n",
    "        'Model': name,\n",
    "        'R2 Score': round(r2_score(y_true, y_pred), 4),\n",
    "        'MSE': round(mean_squared_error(y_true, y_pred), 2)\n",
    "    }\n",
    "\n",
    "results = [\n",
    "    get_scores(\"Linear Regression\", y_test, y_pred_lr),\n",
    "    get_scores(\"Random Forest\", y_test, y_pred_rf)\n",
    "]\n",
    "\n",
    "results_df = pd.DataFrame(results)\n",
    "\n",
    "# Print results\n",
    "print(\"Model Evaluation Summary:\")\n",
    "print(results_df)"
   ]
  }
 ],
 "metadata": {
  "kernelspec": {
   "display_name": "base",
   "language": "python",
   "name": "python3"
  },
  "language_info": {
   "codemirror_mode": {
    "name": "ipython",
    "version": 3
   },
   "file_extension": ".py",
   "mimetype": "text/x-python",
   "name": "python",
   "nbconvert_exporter": "python",
   "pygments_lexer": "ipython3",
   "version": "3.11.7"
  }
 },
 "nbformat": 4,
 "nbformat_minor": 5
}
